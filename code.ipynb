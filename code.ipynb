{
 "cells": [
  {
   "cell_type": "code",
   "execution_count": 4,
   "metadata": {},
   "outputs": [
    {
     "name": "stdout",
     "output_type": "stream",
     "text": [
      "The number does not exist\n"
     ]
    }
   ],
   "source": [
    "number = 50\n",
    "if number == 3:\n",
    "    print('The given number {} is odd'.format(number))\n",
    "elif number == 2:\n",
    "    print('The given number {} is even'.format(number))\n",
    "elif number == 10:\n",
    "    print('The given number {} is two digit'.format(number))\n",
    "elif number == 48:\n",
    "    print('The given number {} is exact'.format(number))\n",
    "elif number == 100:\n",
    "    print('The given number {} is large'.format(number))\n",
    "else:\n",
    "    print('The number does not exist')"
   ]
  },
  {
   "cell_type": "code",
   "execution_count": 1,
   "metadata": {},
   "outputs": [
    {
     "name": "stdout",
     "output_type": "stream",
     "text": [
      "Udochi is not family\n"
     ]
    }
   ],
   "source": [
    "the_nelsons = ('Elijah', 'Esther', 'Goodness', 'Moses')\n",
    "name = 'Udochi'\n",
    "if name in the_nelsons:\n",
    "    print('{} is family'.format(name))\n",
    "else: \n",
    "    print('{} is not family'.format(name))"
   ]
  },
  {
   "cell_type": "code",
   "execution_count": 6,
   "metadata": {},
   "outputs": [
    {
     "name": "stdout",
     "output_type": "stream",
     "text": [
      "The number 49 is not divisible\n"
     ]
    }
   ],
   "source": [
    "number = 49\n",
    "if number % 4 == 0 and number % 7 == 0:\n",
    "    print('The number {} is divisible by 4 and 7'.format(number))\n",
    "elif number % 5 == 0:\n",
    "    print('The number {} is divisible by 5'.format(number))\n",
    "else:\n",
    "    print('The number {} is not divisible'.format(number))"
   ]
  },
  {
   "cell_type": "code",
   "execution_count": 7,
   "metadata": {},
   "outputs": [
    {
     "name": "stdout",
     "output_type": "stream",
     "text": [
      "The number 24 is Even\n"
     ]
    }
   ],
   "source": [
    "number = 24\n",
    "if number % 2 == 0:\n",
    "    value = \"Even\"\n",
    "else:\n",
    "    value = \"Odd\"\n",
    "print('The number {} is {}'.format(number, value))"
   ]
  },
  {
   "cell_type": "code",
   "execution_count": 10,
   "metadata": {},
   "outputs": [
    {
     "name": "stdout",
     "output_type": "stream",
     "text": [
      "The factorial of 5 is: 120\n"
     ]
    }
   ],
   "source": [
    "result = 1\n",
    "i = 1\n",
    "while i <= 5:\n",
    "    result = result * i\n",
    "    i = i + 1\n",
    "print('The factorial of 5 is: {}'.format(result))"
   ]
  },
  {
   "cell_type": "code",
   "execution_count": 1,
   "metadata": {},
   "outputs": [
    {
     "name": "stdout",
     "output_type": "stream",
     "text": [
      "The factorial of 10 is: 3628800\n"
     ]
    }
   ],
   "source": [
    "result = 1\n",
    "i = 1\n",
    "while i <= 10:\n",
    "    result = result * i\n",
    "    i = i + 1\n",
    "print('The factorial of 10 is: {}'.format(result))"
   ]
  },
  {
   "cell_type": "code",
   "execution_count": 3,
   "metadata": {},
   "outputs": [
    {
     "name": "stdout",
     "output_type": "stream",
     "text": [
      "The Multiplication of odd numbers within 1 and 10 is: 945\n"
     ]
    }
   ],
   "source": [
    "result = 1\n",
    "i = 1\n",
    "while i <= 10:\n",
    "    result = result * i\n",
    "    i = i + 2\n",
    "print('The Multiplication of odd numbers within 1 and 10 is: {}'.format(result))"
   ]
  },
  {
   "cell_type": "code",
   "execution_count": 2,
   "metadata": {},
   "outputs": [
    {
     "name": "stdout",
     "output_type": "stream",
     "text": [
      "93326215443944152681699238856266700490715968264381621468592963895217599993229915608941463976156518286253697920827223758251185210916864000000000000000000000000\n"
     ]
    }
   ],
   "source": [
    "# time\n",
    "result = 1\n",
    "i = 1\n",
    "while i <= 100:\n",
    "    result *= i\n",
    "    i += 1\n",
    "print(result)"
   ]
  },
  {
   "cell_type": "code",
   "execution_count": 5,
   "metadata": {},
   "outputs": [
    {
     "name": "stdout",
     "output_type": "stream",
     "text": [
      "*\n",
      "**\n",
      "***\n",
      "****\n",
      "*****\n",
      "******\n",
      "*******\n",
      "********\n",
      "*********\n",
      "**********\n",
      "***********\n",
      "**********\n",
      "*********\n",
      "********\n",
      "*******\n",
      "******\n",
      "*****\n",
      "****\n",
      "***\n",
      "**\n",
      "*\n"
     ]
    }
   ],
   "source": [
    "line = '*'\n",
    "max_length = 10\n",
    "while len(line)<=max_length:\n",
    "    print(line)\n",
    "    line += '*'\n",
    "while len(line) > 0:\n",
    "    print(line)\n",
    "    line = line[:-1]"
   ]
  },
  {
   "cell_type": "code",
   "execution_count": 16,
   "metadata": {},
   "outputs": [
    {
     "name": "stdout",
     "output_type": "stream",
     "text": [
      " * \n",
      " * * *\n",
      " * * ** *\n",
      " * * ** ** *\n",
      " * * ** ** \n",
      " * * ** **\n",
      " * * ** *\n",
      " * * ** \n",
      " * * **\n",
      " * * *\n",
      " * * \n",
      " * *\n",
      " * \n",
      " *\n",
      " \n"
     ]
    }
   ],
   "source": [
    "line = ' * '\n",
    "max_length = 10\n",
    "while len(line)<=max_length:\n",
    "    print(line)\n",
    "    line += '* *'\n",
    "while len(line) > 0:\n",
    "    print(line)\n",
    "    line = line[:-1]"
   ]
  },
  {
   "cell_type": "code",
   "execution_count": 19,
   "metadata": {},
   "outputs": [
    {
     "name": "stdout",
     "output_type": "stream",
     "text": [
      "     *     \n",
      "    ***    \n",
      "   *****   \n",
      "  *******  \n",
      " ********* \n",
      "***********\n",
      "***********\n",
      " ********* \n",
      "  *******  \n",
      "   *****   \n",
      "    ***    \n",
      "     *     \n"
     ]
    }
   ],
   "source": [
    "line = '*'\n",
    "max_length = 11  # The maximum number of stars in the middle row\n",
    "\n",
    "# Build and print the upper half of the diamond\n",
    "while len(line) <= max_length:\n",
    "    print(line.center(max_length))\n",
    "    line += '**'  # Increase by two stars for the next row\n",
    "\n",
    "# Build and print the lower half of the diamond\n",
    "while len(line) > 1:\n",
    "    line = line[:-2]  # Decrease by two stars for the next row\n",
    "    print(line.center(max_length))\n"
   ]
  },
  {
   "cell_type": "code",
   "execution_count": 21,
   "metadata": {},
   "outputs": [
    {
     "name": "stdout",
     "output_type": "stream",
     "text": [
      "Skipping 2\n",
      "Multiplying with 3\n",
      "Skipping 4\n",
      "Multiplying with 5\n",
      "Skipping 6\n",
      "Multiplying with 7\n",
      "Skipping 8\n",
      "Multiplying with 9\n",
      "Skipping 10\n",
      "Multiplying with 11\n",
      "Skipping 12\n",
      "Multiplying with 13\n",
      "Skipping 14\n",
      "Multiplying with 15\n",
      "Skipping 16\n",
      "Multiplying with 17\n",
      "Skipping 18\n",
      "Multiplying with 19\n",
      "Skipping 20\n",
      "i: 20\n",
      "result: 654729075\n"
     ]
    }
   ],
   "source": [
    "i = 1\n",
    "result = 1\n",
    "while i < 20:\n",
    "    i += 1\n",
    "    if i % 2 == 0:\n",
    "        print('Skipping {}'.format(i))\n",
    "        continue\n",
    "    print('Multiplying with {}'.format(i))\n",
    "    result = result * i\n",
    "print('i:', i)\n",
    "print('result:', result)\n"
   ]
  },
  {
   "cell_type": "code",
   "execution_count": 26,
   "metadata": {},
   "outputs": [
    {
     "name": "stdout",
     "output_type": "stream",
     "text": [
      "Sunday\n",
      "Monday\n",
      "Tuesday\n",
      "Wednesday\n",
      "Thursday\n",
      "Friday\n",
      "Saturday\n",
      "\n",
      "Sunday\n",
      "Monday\n",
      "Tuesday\n",
      "Wednesday\n",
      "Thursday\n",
      "Friday\n",
      "Saturday\n",
      "\n",
      "Sunday is a day of the week\n",
      "Monday is a day of the week\n",
      "Tuesday is a day of the week\n",
      "Wednesday is a day of the week\n",
      "Thursday is a day of the week\n",
      "Friday is a day of the week\n",
      "Saturday is a day of the week\n"
     ]
    }
   ],
   "source": [
    "days = ['Sunday','Monday', 'Tuesday', 'Wednesday', 'Thursday', 'Friday', 'Saturday']\n",
    "for day in days:\n",
    "    print(day)\n",
    "\n",
    "print()\n",
    "\n",
    "for char in days:\n",
    "    print(char)\n",
    "\n",
    "print()\n",
    "\n",
    "for day in days:\n",
    "    print(day, 'is a day of the week')"
   ]
  },
  {
   "cell_type": "code",
   "execution_count": 32,
   "metadata": {},
   "outputs": [
    {
     "name": "stdout",
     "output_type": "stream",
     "text": [
      "Key: name , Value: Esther Nelson\n",
      "Key: sex , Value: Female\n",
      "Key: age , Value: 21\n",
      "Key: single , Value: True\n",
      "Key: university , Value: Anchor University\n",
      "\n",
      "Esther Nelson\n",
      "Female\n",
      "21\n",
      "True\n",
      "Anchor University\n",
      "\n",
      "('name', 'Esther Nelson')\n",
      "('sex', 'Female')\n",
      "('age', 21)\n",
      "('single', True)\n",
      "('university', 'Anchor University')\n",
      "\n",
      "key: name ,value: Esther Nelson\n",
      "key: sex ,value: Female\n",
      "key: age ,value: 21\n",
      "key: single ,value: True\n",
      "key: university ,value: Anchor University\n"
     ]
    }
   ],
   "source": [
    "person = {\n",
    "    'name': 'Esther Nelson',\n",
    "    'sex': 'Female',\n",
    "    'age': 21,\n",
    "    'single': True,\n",
    "    'university': 'Anchor University'\n",
    "}\n",
    "for key in person:\n",
    "    print('Key:', key, ',', 'Value:', person[key])\n",
    "\n",
    "print()\n",
    "\n",
    "for value in person.values():\n",
    "    print(value)\n",
    "\n",
    "print()\n",
    "\n",
    "for key_value in person.items():\n",
    "    print(key_value)\n",
    "\n",
    "print()\n",
    "\n",
    "for key, value in person.items():\n",
    "    print('key:', key, ',' 'value:', value)"
   ]
  },
  {
   "cell_type": "code",
   "execution_count": 36,
   "metadata": {},
   "outputs": [
    {
     "name": "stdout",
     "output_type": "stream",
     "text": [
      "0\n",
      "1\n",
      "2\n",
      "3\n",
      "4\n",
      "5\n",
      "6\n",
      "7\n",
      "8\n",
      "9\n",
      "\n",
      "3\n",
      "4\n",
      "5\n",
      "6\n",
      "7\n",
      "8\n",
      "\n",
      "2\n",
      "5\n",
      "8\n"
     ]
    }
   ],
   "source": [
    "for i in range(10):\n",
    "    print(i)\n",
    "\n",
    "print()\n",
    "\n",
    "for i in range (3,9):\n",
    "    print(i)\n",
    "\n",
    "print()\n",
    "\n",
    "for i in range(2,10,3):\n",
    "    print(i)"
   ]
  },
  {
   "cell_type": "code",
   "execution_count": 37,
   "metadata": {},
   "outputs": [
    {
     "name": "stdout",
     "output_type": "stream",
     "text": [
      "The value at position 0 is Sunday\n",
      "The value at position 1 is Monday\n",
      "The value at position 2 is Tuesday\n",
      "The value at position 3 is Wednesday\n",
      "The value at position 4 is Thursday\n",
      "The value at position 5 is Friday\n",
      "The value at position 6 is Saturday\n"
     ]
    }
   ],
   "source": [
    "days = ['Sunday','Monday', 'Tuesday', 'Wednesday', 'Thursday', 'Friday', 'Saturday']\n",
    "for i in range(len(days)):\n",
    "    print('The value at position {} is {}'.format(i, days[i]))"
   ]
  },
  {
   "cell_type": "code",
   "execution_count": 38,
   "metadata": {},
   "outputs": [
    {
     "name": "stdout",
     "output_type": "stream",
     "text": [
      "The value at position 0 is Sunday\n",
      "The value at position 1 is Monday\n",
      "The value at position 2 is Tuesday\n",
      "The value at position 3 is Wednesday\n",
      "The value at position 4 is Thursday\n",
      "The value at position 5 is Friday\n",
      "The value at position 6 is Saturday\n"
     ]
    }
   ],
   "source": [
    "for i, val in enumerate(days):\n",
    "    print('The value at position {} is {}'.format(i, val))"
   ]
  },
  {
   "cell_type": "code",
   "execution_count": 41,
   "metadata": {},
   "outputs": [
    {
     "name": "stdout",
     "output_type": "stream",
     "text": [
      "Today is Sunday\n",
      "Today is Monday\n",
      "Today is Tuesday\n",
      "Today is Wednesday\n",
      "Today is Thursday\n",
      "I go for CDS every Thursday\n",
      "Today is Friday\n",
      "Today is Saturday\n",
      "\n",
      "Today is Sunday\n",
      "Today is Monday\n",
      "Today is Tuesday\n",
      "Today is Wednesday\n",
      "Today is Thursday\n",
      "I go for CDS every Thursday\n",
      "\n",
      "Today is Sunday\n",
      "Today is Monday\n",
      "Today is Tuesday\n",
      "Today is Wednesday\n",
      "I have CDS on Thursday\n",
      "Today is Friday\n",
      "Today is Saturday\n"
     ]
    }
   ],
   "source": [
    "for day in days:\n",
    "    print('Today is {}'.format(day))\n",
    "    if (day == 'Thursday'):\n",
    "        print('I go for CDS every Thursday')\n",
    "\n",
    "print()\n",
    "\n",
    "for day in days:\n",
    "    print('Today is {}'.format(day))\n",
    "    if (day == 'Thursday'):\n",
    "        print('I go for CDS every Thursday')\n",
    "        break\n",
    "\n",
    "print()\n",
    "\n",
    "for day in days:\n",
    "    if (day == 'Thursday'):\n",
    "        print('I have CDS on Thursday')\n",
    "        continue\n",
    "    print('Today is {}'.format(day))"
   ]
  },
  {
   "cell_type": "code",
   "execution_count": 49,
   "metadata": {},
   "outputs": [
    {
     "name": "stdout",
     "output_type": "stream",
     "text": [
      "Hiiiiii\n",
      "How are you?\n",
      "\n",
      "Hiiiiii Goodie, I am Esther, Its a pleasure to meet you\n",
      "\n"
     ]
    },
    {
     "data": {
      "text/plain": [
       "[2, 4, 6, 8, 10, 20, 30, 40, 50]"
      ]
     },
     "execution_count": 49,
     "metadata": {},
     "output_type": "execute_result"
    }
   ],
   "source": [
    "def say_hello():\n",
    "    print('Hiiiiii')\n",
    "    print('How are you?')\n",
    "say_hello()\n",
    "\n",
    "print()\n",
    "\n",
    "def say_hello(name):\n",
    "    print('Hiiiiii {}, I am Esther, Its a pleasure to meet you'.format(name))\n",
    "say_hello('Goodie')\n",
    "\n",
    "print()\n",
    "\n",
    "def even(numbers):\n",
    "    result = []\n",
    "    for number in numbers:\n",
    "        if number % 2 == 0:\n",
    "            result.append(number)\n",
    "    return result\n",
    "even([1,2,3,4,5,6,7,8,9,10,20,30,40,50])"
   ]
  },
  {
   "cell_type": "code",
   "execution_count": 3,
   "metadata": {},
   "outputs": [
    {
     "data": {
      "text/plain": [
       "[10]"
      ]
     },
     "execution_count": 3,
     "metadata": {},
     "output_type": "execute_result"
    }
   ],
   "source": [
    "def even(numbers):\n",
    "    result = []\n",
    "    for number in numbers:\n",
    "        if number % 3 == 0:\n",
    "            result.append(number)\n",
    "    return result\n",
    "even([1,2,3,4,5,6,7,8,9,10,20,30,40,50])\n",
    "\n",
    "def even(numbers):\n",
    "    result = []\n",
    "    for number in numbers:\n",
    "        if number * 3 == 30:\n",
    "            result.append(number)\n",
    "    return result\n",
    "even([1,2,3,4,5,6,7,8,9,10,20,30,40,50])"
   ]
  },
  {
   "cell_type": "code",
   "execution_count": 6,
   "metadata": {},
   "outputs": [
    {
     "name": "stdout",
     "output_type": "stream",
     "text": [
      "The EMI is $105000.0\n",
      "\n",
      "The EMI is $90000.0\n"
     ]
    }
   ],
   "source": [
    "def loan(amount):\n",
    "    emi = amount / 12\n",
    "    print('The EMI is ${}'.format(emi))\n",
    "loan(1260000)\n",
    "\n",
    "print()\n",
    "\n",
    "def loan(amount, duration):\n",
    "    emi = amount / duration\n",
    "    print('The EMI is ${}'.format(emi))\n",
    "loan(1260000, 14)"
   ]
  },
  {
   "cell_type": "code",
   "execution_count": 7,
   "metadata": {},
   "outputs": [
    {
     "name": "stdout",
     "output_type": "stream",
     "text": [
      "\n",
      "--- Questionnaire Responses ---\n",
      "What is the name of your school?: Anchor\n",
      "Which grade are you currently in?: Graduate\n",
      "What is your favorite subject?: Math\n",
      "Who is your favorite teacher and why?: Dr Abiodun, he likes change\n",
      "What extracurricular activities do you participate in?: NAMSS Leadership\n",
      "How do you usually prepare for exams?: Reading\n",
      "What is your biggest challenge in school?: Friends\n",
      "What do you enjoy most about school?: Friends\n",
      "What is your goal for this school year?: To be the best\n"
     ]
    }
   ],
   "source": [
    "def ask_question(question):\n",
    "    \"\"\"Ask a question and return the user's response.\"\"\"\n",
    "    response = input(question + \"\\n> \")\n",
    "    return response\n",
    "\n",
    "def create_questionnaire(questions):\n",
    "    \"\"\"Create a questionnaire and collect responses.\"\"\"\n",
    "    responses = {}\n",
    "    for question in questions:\n",
    "        response = ask_question(question)\n",
    "        responses[question] = response\n",
    "    return responses\n",
    "\n",
    "def display_responses(responses):\n",
    "    \"\"\"Display the collected responses.\"\"\"\n",
    "    print(\"\\n--- Questionnaire Responses ---\")\n",
    "    for question, response in responses.items():\n",
    "        print(f\"{question}: {response}\")\n",
    "\n",
    "# School-related questions\n",
    "questions = [\n",
    "    \"What is the name of your school?\",\n",
    "    \"Which grade are you currently in?\",\n",
    "    \"What is your favorite subject?\",\n",
    "    \"Who is your favorite teacher and why?\",\n",
    "    \"What extracurricular activities do you participate in?\",\n",
    "    \"How do you usually prepare for exams?\",\n",
    "    \"What is your biggest challenge in school?\",\n",
    "    \"What do you enjoy most about school?\",\n",
    "    \"What is your goal for this school year?\"\n",
    "]\n",
    "\n",
    "# Create the questionnaire and collect responses\n",
    "responses = create_questionnaire(questions)\n",
    "\n",
    "# Display the collected responses\n",
    "display_responses(responses)\n"
   ]
  },
  {
   "cell_type": "code",
   "execution_count": 9,
   "metadata": {},
   "outputs": [
    {
     "name": "stdout",
     "output_type": "stream",
     "text": [
      "Simple Calculator\n",
      "Select operation:\n",
      "1. Addition\n",
      "2. Subtraction\n",
      "3. Multiplication\n",
      "4. Division\n",
      "The result is: 44.0\n"
     ]
    }
   ],
   "source": [
    "def add(x, y):\n",
    "    return x + y\n",
    "\n",
    "def subtract(x, y):\n",
    "    return x - y\n",
    "\n",
    "def multiply(x, y):\n",
    "    return x * y\n",
    "\n",
    "def divide(x, y):\n",
    "    if y == 0:\n",
    "        return \"Error: Division by zero is undefined.\"\n",
    "    return x / y\n",
    "\n",
    "def main():\n",
    "    print(\"Simple Calculator\")\n",
    "    print(\"Select operation:\")\n",
    "    print(\"1. Addition\")\n",
    "    print(\"2. Subtraction\")\n",
    "    print(\"3. Multiplication\")\n",
    "    print(\"4. Division\")\n",
    "\n",
    "    choice = input(\"Enter choice (1/2/3/4): \")\n",
    "\n",
    "    if choice in ['1', '2', '3', '4']:\n",
    "        num1 = float(input(\"Enter first number: \"))\n",
    "        num2 = float(input(\"Enter second number: \"))\n",
    "\n",
    "        if choice == '1':\n",
    "            print(f\"The result is: {add(num1, num2)}\")\n",
    "        elif choice == '2':\n",
    "            print(f\"The result is: {subtract(num1, num2)}\")\n",
    "        elif choice == '3':\n",
    "            print(f\"The result is: {multiply(num1, num2)}\")\n",
    "        elif choice == '4':\n",
    "            print(f\"The result is: {divide(num1, num2)}\")\n",
    "    else:\n",
    "        print(\"Invalid input. Please choose a valid operation.\")\n",
    "\n",
    "if __name__ == \"__main__\":\n",
    "    main()\n"
   ]
  },
  {
   "cell_type": "code",
   "execution_count": 10,
   "metadata": {},
   "outputs": [
    {
     "name": "stdout",
     "output_type": "stream",
     "text": [
      "\n",
      "--- Combination and Permutation Calculator ---\n",
      "1. Calculate Permutation (P(n, r))\n",
      "2. Calculate Combination (C(n, r))\n",
      "3. Exit\n",
      "P(5, 2) = 20\n",
      "\n",
      "--- Combination and Permutation Calculator ---\n",
      "1. Calculate Permutation (P(n, r))\n",
      "2. Calculate Combination (C(n, r))\n",
      "3. Exit\n",
      "P(5, 4) = 120\n",
      "\n",
      "--- Combination and Permutation Calculator ---\n",
      "1. Calculate Permutation (P(n, r))\n",
      "2. Calculate Combination (C(n, r))\n",
      "3. Exit\n",
      "C(10, 7) = 120\n",
      "\n",
      "--- Combination and Permutation Calculator ---\n",
      "1. Calculate Permutation (P(n, r))\n",
      "2. Calculate Combination (C(n, r))\n",
      "3. Exit\n",
      "Invalid choice. Please select a valid option.\n",
      "\n",
      "--- Combination and Permutation Calculator ---\n",
      "1. Calculate Permutation (P(n, r))\n",
      "2. Calculate Combination (C(n, r))\n",
      "3. Exit\n",
      "C(9, 5) = 126\n",
      "\n",
      "--- Combination and Permutation Calculator ---\n",
      "1. Calculate Permutation (P(n, r))\n",
      "2. Calculate Combination (C(n, r))\n",
      "3. Exit\n",
      "Invalid choice. Please select a valid option.\n",
      "\n",
      "--- Combination and Permutation Calculator ---\n",
      "1. Calculate Permutation (P(n, r))\n",
      "2. Calculate Combination (C(n, r))\n",
      "3. Exit\n",
      "Invalid choice. Please select a valid option.\n",
      "\n",
      "--- Combination and Permutation Calculator ---\n",
      "1. Calculate Permutation (P(n, r))\n",
      "2. Calculate Combination (C(n, r))\n",
      "3. Exit\n",
      "Invalid choice. Please select a valid option.\n",
      "\n",
      "--- Combination and Permutation Calculator ---\n",
      "1. Calculate Permutation (P(n, r))\n",
      "2. Calculate Combination (C(n, r))\n",
      "3. Exit\n",
      "Invalid choice. Please select a valid option.\n",
      "\n",
      "--- Combination and Permutation Calculator ---\n",
      "1. Calculate Permutation (P(n, r))\n",
      "2. Calculate Combination (C(n, r))\n",
      "3. Exit\n",
      "Invalid choice. Please select a valid option.\n",
      "\n",
      "--- Combination and Permutation Calculator ---\n",
      "1. Calculate Permutation (P(n, r))\n",
      "2. Calculate Combination (C(n, r))\n",
      "3. Exit\n",
      "Exiting the calculator. Goodbye!\n"
     ]
    }
   ],
   "source": [
    "import math\n",
    "\n",
    "def calculate_permutation(n, r):\n",
    "    \"\"\"Calculate the permutation P(n, r) = n! / (n-r)!\"\"\"\n",
    "    return math.factorial(n) // math.factorial(n - r)\n",
    "\n",
    "def calculate_combination(n, r):\n",
    "    \"\"\"Calculate the combination C(n, r) = n! / [r! * (n-r)!]\"\"\"\n",
    "    return math.factorial(n) // (math.factorial(r) * math.factorial(n - r))\n",
    "\n",
    "def main():\n",
    "    while True:\n",
    "        print(\"\\n--- Combination and Permutation Calculator ---\")\n",
    "        print(\"1. Calculate Permutation (P(n, r))\")\n",
    "        print(\"2. Calculate Combination (C(n, r))\")\n",
    "        print(\"3. Exit\")\n",
    "\n",
    "        choice = input(\"Select an option (1/2/3): \")\n",
    "\n",
    "        if choice in ['1', '2']:\n",
    "            try:\n",
    "                n = int(input(\"Enter value of n (total items): \"))\n",
    "                r = int(input(\"Enter value of r (items to choose): \"))\n",
    "\n",
    "                if n < 0 or r < 0:\n",
    "                    print(\"n and r must be non-negative integers.\")\n",
    "                    continue\n",
    "                if r > n:\n",
    "                    print(\"r cannot be greater than n.\")\n",
    "                    continue\n",
    "\n",
    "                if choice == '1':\n",
    "                    result = calculate_permutation(n, r)\n",
    "                    print(f\"P({n}, {r}) = {result}\")\n",
    "                elif choice == '2':\n",
    "                    result = calculate_combination(n, r)\n",
    "                    print(f\"C({n}, {r}) = {result}\")\n",
    "\n",
    "            except ValueError:\n",
    "                print(\"Please enter valid integer values for n and r.\")\n",
    "        elif choice == '3':\n",
    "            print(\"Exiting the calculator. Goodbye!\")\n",
    "            break\n",
    "        else:\n",
    "            print(\"Invalid choice. Please select a valid option.\")\n",
    "\n",
    "if __name__ == \"__main__\":\n",
    "    main()\n"
   ]
  },
  {
   "cell_type": "code",
   "execution_count": 11,
   "metadata": {},
   "outputs": [
    {
     "name": "stdout",
     "output_type": "stream",
     "text": [
      "5\n",
      "hello\n"
     ]
    }
   ],
   "source": [
    "def num(x, y):\n",
    "    calc =  x + y\n",
    "    print(calc)\n",
    "num(2,3)\n",
    "\n",
    "print('hello')"
   ]
  },
  {
   "cell_type": "code",
   "execution_count": 14,
   "metadata": {},
   "outputs": [
    {
     "data": {
      "image/png": "[encoded data removed]",
      "text/plain": [
       "<Figure size 640x480 with 1 Axes>"
      ]
     },
     "metadata": {},
     "output_type": "display_data"
    }
   ],
   "source": [
    "import matplotlib.pyplot as plt\n",
    "\n",
    "# Sample data for the graph\n",
    "x = [1, 2, 3, 4, 5]  # X-axis values\n",
    "y = [2, 4, 1, 8, 7]  # Y-axis values\n",
    "\n",
    "# Creating the graph\n",
    "plt.plot(x, y, marker='o', linestyle='-', color='red', label='Sample Data')\n",
    "\n",
    "# Adding titles and labels\n",
    "plt.title('Simple Line Graph')\n",
    "plt.xlabel('X-axis')\n",
    "plt.ylabel('Y-axis')\n",
    "\n",
    "# Adding a grid and legend\n",
    "plt.grid(True)\n",
    "plt.legend()\n",
    "\n",
    "# Displaying the graph\n",
    "plt.show()\n"
   ]
  },
  {
   "cell_type": "code",
   "execution_count": 15,
   "metadata": {},
   "outputs": [
    {
     "data": {
      "image/png": "[encoded data removed]",
      "text/plain": [
       "<Figure size 640x480 with 1 Axes>"
      ]
     },
     "metadata": {},
     "output_type": "display_data"
    }
   ],
   "source": [
    "import numpy as np\n",
    "import matplotlib.pyplot as plt\n",
    "\n",
    "# Generate x values\n",
    "x = np.linspace(0, 2 * np.pi, 100)  # 0 to 2π, with 100 points in between\n",
    "\n",
    "# Compute the corresponding y values using the sine function\n",
    "y = np.sin(x)\n",
    "\n",
    "# Create the plot\n",
    "plt.plot(x, y, label='sin(x)', color='blue')\n",
    "\n",
    "# Adding titles and labels\n",
    "plt.title('Sine Wave')\n",
    "plt.xlabel('x (radians)')\n",
    "plt.ylabel('sin(x)')\n",
    "\n",
    "# Adding a grid and legend\n",
    "plt.grid(True)\n",
    "plt.legend()\n",
    "\n",
    "# Display the graph\n",
    "plt.show()\n"
   ]
  }
 ],
 "metadata": {
  "kernelspec": {
   "display_name": "Python 3",
   "language": "python",
   "name": "python3"
  },
  "language_info": {
   "codemirror_mode": {
    "name": "ipython",
    "version": 3
   },
   "file_extension": ".py",
   "mimetype": "text/x-python",
   "name": "python",
   "nbconvert_exporter": "python",
   "pygments_lexer": "ipython3",
   "version": "3.10.5"
  }
 },
 "nbformat": 4,
 "nbformat_minor": 2
}
