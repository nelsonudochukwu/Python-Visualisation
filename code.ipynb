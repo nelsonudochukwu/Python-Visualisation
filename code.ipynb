{
 "cells": [
  {
   "cell_type": "code",
   "execution_count": 4,
   "metadata": {},
   "outputs": [
    {
     "name": "stdout",
     "output_type": "stream",
     "text": [
      "The number does not exist\n"
     ]
    }
   ],
   "source": [
    "number = 50\n",
    "if number == 3:\n",
    "    print('The given number {} is odd'.format(number))\n",
    "elif number == 2:\n",
    "    print('The given number {} is even'.format(number))\n",
    "elif number == 10:\n",
    "    print('The given number {} is two digit'.format(number))\n",
    "elif number == 48:\n",
    "    print('The given number {} is exact'.format(number))\n",
    "elif number == 100:\n",
    "    print('The given number {} is large'.format(number))\n",
    "else:\n",
    "    print('The number does not exist')"
   ]
  },
  {
   "cell_type": "code",
   "execution_count": 1,
   "metadata": {},
   "outputs": [
    {
     "name": "stdout",
     "output_type": "stream",
     "text": [
      "Udochi is not family\n"
     ]
    }
   ],
   "source": [
    "the_nelsons = ('Elijah', 'Esther', 'Goodness', 'Moses')\n",
    "name = 'Udochi'\n",
    "if name in the_nelsons:\n",
    "    print('{} is family'.format(name))\n",
    "else: \n",
    "    print('{} is not family'.format(name))"
   ]
  },
  {
   "cell_type": "code",
   "execution_count": 6,
   "metadata": {},
   "outputs": [
    {
     "name": "stdout",
     "output_type": "stream",
     "text": [
      "The number 49 is not divisible\n"
     ]
    }
   ],
   "source": [
    "number = 49\n",
    "if number % 4 == 0 and number % 7 == 0:\n",
    "    print('The number {} is divisible by 4 and 7'.format(number))\n",
    "elif number % 5 == 0:\n",
    "    print('The number {} is divisible by 5'.format(number))\n",
    "else:\n",
    "    print('The number {} is not divisible'.format(number))"
   ]
  },
  {
   "cell_type": "code",
   "execution_count": 7,
   "metadata": {},
   "outputs": [
    {
     "name": "stdout",
     "output_type": "stream",
     "text": [
      "The number 24 is Even\n"
     ]
    }
   ],
   "source": [
    "number = 24\n",
    "if number % 2 == 0:\n",
    "    value = \"Even\"\n",
    "else:\n",
    "    value = \"Odd\"\n",
    "print('The number {} is {}'.format(number, value))"
   ]
  },
  {
   "cell_type": "code",
   "execution_count": 10,
   "metadata": {},
   "outputs": [
    {
     "name": "stdout",
     "output_type": "stream",
     "text": [
      "The factorial of 5 is: 120\n"
     ]
    }
   ],
   "source": [
    "result = 1\n",
    "i = 1\n",
    "while i <= 5:\n",
    "    result = result * i\n",
    "    i = i + 1\n",
    "print('The factorial of 5 is: {}'.format(result))"
   ]
  },
  {
   "cell_type": "code",
   "execution_count": 1,
   "metadata": {},
   "outputs": [
    {
     "name": "stdout",
     "output_type": "stream",
     "text": [
      "The factorial of 10 is: 3628800\n"
     ]
    }
   ],
   "source": [
    "result = 1\n",
    "i = 1\n",
    "while i <= 10:\n",
    "    result = result * i\n",
    "    i = i + 1\n",
    "print('The factorial of 10 is: {}'.format(result))"
   ]
  },
  {
   "cell_type": "code",
   "execution_count": 3,
   "metadata": {},
   "outputs": [
    {
     "name": "stdout",
     "output_type": "stream",
     "text": [
      "The Multiplication of odd numbers within 1 and 10 is: 945\n"
     ]
    }
   ],
   "source": [
    "result = 1\n",
    "i = 1\n",
    "while i <= 10:\n",
    "    result = result * i\n",
    "    i = i + 2\n",
    "print('The Multiplication of odd numbers within 1 and 10 is: {}'.format(result))"
   ]
  },
  {
   "cell_type": "code",
   "execution_count": 2,
   "metadata": {},
   "outputs": [
    {
     "name": "stdout",
     "output_type": "stream",
     "text": [
      "93326215443944152681699238856266700490715968264381621468592963895217599993229915608941463976156518286253697920827223758251185210916864000000000000000000000000\n"
     ]
    }
   ],
   "source": [
    "# time\n",
    "result = 1\n",
    "i = 1\n",
    "while i <= 100:\n",
    "    result *= i\n",
    "    i += 1\n",
    "print(result)"
   ]
  }
 ],
 "metadata": {
  "kernelspec": {
   "display_name": "Python 3",
   "language": "python",
   "name": "python3"
  },
  "language_info": {
   "codemirror_mode": {
    "name": "ipython",
    "version": 3
   },
   "file_extension": ".py",
   "mimetype": "text/x-python",
   "name": "python",
   "nbconvert_exporter": "python",
   "pygments_lexer": "ipython3",
   "version": "3.10.5"
  }
 },
 "nbformat": 4,
 "nbformat_minor": 2
}
