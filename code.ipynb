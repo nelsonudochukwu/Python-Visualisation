{
 "cells": [
  {
   "cell_type": "code",
   "execution_count": 4,
   "metadata": {},
   "outputs": [
    {
     "name": "stdout",
     "output_type": "stream",
     "text": [
      "The number does not exist\n"
     ]
    }
   ],
   "source": [
    "number = 50\n",
    "if number == 3:\n",
    "    print('The given number {} is odd'.format(number))\n",
    "elif number == 2:\n",
    "    print('The given number {} is even'.format(number))\n",
    "elif number == 10:\n",
    "    print('The given number {} is two digit'.format(number))\n",
    "elif number == 48:\n",
    "    print('The given number {} is exact'.format(number))\n",
    "elif number == 100:\n",
    "    print('The given number {} is large'.format(number))\n",
    "else:\n",
    "    print('The number does not exist')"
   ]
  },
  {
   "cell_type": "code",
   "execution_count": 1,
   "metadata": {},
   "outputs": [
    {
     "name": "stdout",
     "output_type": "stream",
     "text": [
      "Udochi is not family\n"
     ]
    }
   ],
   "source": [
    "the_nelsons = ('Elijah', 'Esther', 'Goodness', 'Moses')\n",
    "name = 'Udochi'\n",
    "if name in the_nelsons:\n",
    "    print('{} is family'.format(name))\n",
    "else: \n",
    "    print('{} is not family'.format(name))"
   ]
  },
  {
   "cell_type": "code",
   "execution_count": 6,
   "metadata": {},
   "outputs": [
    {
     "name": "stdout",
     "output_type": "stream",
     "text": [
      "The number 49 is not divisible\n"
     ]
    }
   ],
   "source": [
    "number = 49\n",
    "if number % 4 == 0 and number % 7 == 0:\n",
    "    print('The number {} is divisible by 4 and 7'.format(number))\n",
    "elif number % 5 == 0:\n",
    "    print('The number {} is divisible by 5'.format(number))\n",
    "else:\n",
    "    print('The number {} is not divisible'.format(number))"
   ]
  },
  {
   "cell_type": "code",
   "execution_count": 7,
   "metadata": {},
   "outputs": [
    {
     "name": "stdout",
     "output_type": "stream",
     "text": [
      "The number 24 is Even\n"
     ]
    }
   ],
   "source": [
    "number = 24\n",
    "if number % 2 == 0:\n",
    "    value = \"Even\"\n",
    "else:\n",
    "    value = \"Odd\"\n",
    "print('The number {} is {}'.format(number, value))"
   ]
  },
  {
   "cell_type": "code",
   "execution_count": 10,
   "metadata": {},
   "outputs": [
    {
     "name": "stdout",
     "output_type": "stream",
     "text": [
      "The factorial of 5 is: 120\n"
     ]
    }
   ],
   "source": [
    "result = 1\n",
    "i = 1\n",
    "while i <= 5:\n",
    "    result = result * i\n",
    "    i = i + 1\n",
    "print('The factorial of 5 is: {}'.format(result))"
   ]
  },
  {
   "cell_type": "code",
   "execution_count": 1,
   "metadata": {},
   "outputs": [
    {
     "name": "stdout",
     "output_type": "stream",
     "text": [
      "The factorial of 10 is: 3628800\n"
     ]
    }
   ],
   "source": [
    "result = 1\n",
    "i = 1\n",
    "while i <= 10:\n",
    "    result = result * i\n",
    "    i = i + 1\n",
    "print('The factorial of 10 is: {}'.format(result))"
   ]
  },
  {
   "cell_type": "code",
   "execution_count": 3,
   "metadata": {},
   "outputs": [
    {
     "name": "stdout",
     "output_type": "stream",
     "text": [
      "The Multiplication of odd numbers within 1 and 10 is: 945\n"
     ]
    }
   ],
   "source": [
    "result = 1\n",
    "i = 1\n",
    "while i <= 10:\n",
    "    result = result * i\n",
    "    i = i + 2\n",
    "print('The Multiplication of odd numbers within 1 and 10 is: {}'.format(result))"
   ]
  },
  {
   "cell_type": "code",
   "execution_count": 2,
   "metadata": {},
   "outputs": [
    {
     "name": "stdout",
     "output_type": "stream",
     "text": [
      "93326215443944152681699238856266700490715968264381621468592963895217599993229915608941463976156518286253697920827223758251185210916864000000000000000000000000\n"
     ]
    }
   ],
   "source": [
    "# time\n",
    "result = 1\n",
    "i = 1\n",
    "while i <= 100:\n",
    "    result *= i\n",
    "    i += 1\n",
    "print(result)"
   ]
  },
  {
   "cell_type": "code",
   "execution_count": 5,
   "metadata": {},
   "outputs": [
    {
     "name": "stdout",
     "output_type": "stream",
     "text": [
      "*\n",
      "**\n",
      "***\n",
      "****\n",
      "*****\n",
      "******\n",
      "*******\n",
      "********\n",
      "*********\n",
      "**********\n",
      "***********\n",
      "**********\n",
      "*********\n",
      "********\n",
      "*******\n",
      "******\n",
      "*****\n",
      "****\n",
      "***\n",
      "**\n",
      "*\n"
     ]
    }
   ],
   "source": [
    "line = '*'\n",
    "max_length = 10\n",
    "while len(line)<=max_length:\n",
    "    print(line)\n",
    "    line += '*'\n",
    "while len(line) > 0:\n",
    "    print(line)\n",
    "    line = line[:-1]"
   ]
  },
  {
   "cell_type": "code",
   "execution_count": 16,
   "metadata": {},
   "outputs": [
    {
     "name": "stdout",
     "output_type": "stream",
     "text": [
      " * \n",
      " * * *\n",
      " * * ** *\n",
      " * * ** ** *\n",
      " * * ** ** \n",
      " * * ** **\n",
      " * * ** *\n",
      " * * ** \n",
      " * * **\n",
      " * * *\n",
      " * * \n",
      " * *\n",
      " * \n",
      " *\n",
      " \n"
     ]
    }
   ],
   "source": [
    "line = ' * '\n",
    "max_length = 10\n",
    "while len(line)<=max_length:\n",
    "    print(line)\n",
    "    line += '* *'\n",
    "while len(line) > 0:\n",
    "    print(line)\n",
    "    line = line[:-1]"
   ]
  },
  {
   "cell_type": "code",
   "execution_count": 19,
   "metadata": {},
   "outputs": [
    {
     "name": "stdout",
     "output_type": "stream",
     "text": [
      "     *     \n",
      "    ***    \n",
      "   *****   \n",
      "  *******  \n",
      " ********* \n",
      "***********\n",
      "***********\n",
      " ********* \n",
      "  *******  \n",
      "   *****   \n",
      "    ***    \n",
      "     *     \n"
     ]
    }
   ],
   "source": [
    "line = '*'\n",
    "max_length = 11  # The maximum number of stars in the middle row\n",
    "\n",
    "# Build and print the upper half of the diamond\n",
    "while len(line) <= max_length:\n",
    "    print(line.center(max_length))\n",
    "    line += '**'  # Increase by two stars for the next row\n",
    "\n",
    "# Build and print the lower half of the diamond\n",
    "while len(line) > 1:\n",
    "    line = line[:-2]  # Decrease by two stars for the next row\n",
    "    print(line.center(max_length))\n"
   ]
  },
  {
   "cell_type": "code",
   "execution_count": 21,
   "metadata": {},
   "outputs": [
    {
     "name": "stdout",
     "output_type": "stream",
     "text": [
      "Skipping 2\n",
      "Multiplying with 3\n",
      "Skipping 4\n",
      "Multiplying with 5\n",
      "Skipping 6\n",
      "Multiplying with 7\n",
      "Skipping 8\n",
      "Multiplying with 9\n",
      "Skipping 10\n",
      "Multiplying with 11\n",
      "Skipping 12\n",
      "Multiplying with 13\n",
      "Skipping 14\n",
      "Multiplying with 15\n",
      "Skipping 16\n",
      "Multiplying with 17\n",
      "Skipping 18\n",
      "Multiplying with 19\n",
      "Skipping 20\n",
      "i: 20\n",
      "result: 654729075\n"
     ]
    }
   ],
   "source": [
    "i = 1\n",
    "result = 1\n",
    "while i < 20:\n",
    "    i += 1\n",
    "    if i % 2 == 0:\n",
    "        print('Skipping {}'.format(i))\n",
    "        continue\n",
    "    print('Multiplying with {}'.format(i))\n",
    "    result = result * i\n",
    "print('i:', i)\n",
    "print('result:', result)\n"
   ]
  },
  {
   "cell_type": "code",
   "execution_count": 26,
   "metadata": {},
   "outputs": [
    {
     "name": "stdout",
     "output_type": "stream",
     "text": [
      "Sunday\n",
      "Monday\n",
      "Tuesday\n",
      "Wednesday\n",
      "Thursday\n",
      "Friday\n",
      "Saturday\n",
      "\n",
      "Sunday\n",
      "Monday\n",
      "Tuesday\n",
      "Wednesday\n",
      "Thursday\n",
      "Friday\n",
      "Saturday\n",
      "\n",
      "Sunday is a day of the week\n",
      "Monday is a day of the week\n",
      "Tuesday is a day of the week\n",
      "Wednesday is a day of the week\n",
      "Thursday is a day of the week\n",
      "Friday is a day of the week\n",
      "Saturday is a day of the week\n"
     ]
    }
   ],
   "source": [
    "days = ['Sunday','Monday', 'Tuesday', 'Wednesday', 'Thursday', 'Friday', 'Saturday']\n",
    "for day in days:\n",
    "    print(day)\n",
    "\n",
    "print()\n",
    "\n",
    "for char in days:\n",
    "    print(char)\n",
    "\n",
    "print()\n",
    "\n",
    "for day in days:\n",
    "    print(day, 'is a day of the week')"
   ]
  },
  {
   "cell_type": "code",
   "execution_count": 32,
   "metadata": {},
   "outputs": [
    {
     "name": "stdout",
     "output_type": "stream",
     "text": [
      "Key: name , Value: Esther Nelson\n",
      "Key: sex , Value: Female\n",
      "Key: age , Value: 21\n",
      "Key: single , Value: True\n",
      "Key: university , Value: Anchor University\n",
      "\n",
      "Esther Nelson\n",
      "Female\n",
      "21\n",
      "True\n",
      "Anchor University\n",
      "\n",
      "('name', 'Esther Nelson')\n",
      "('sex', 'Female')\n",
      "('age', 21)\n",
      "('single', True)\n",
      "('university', 'Anchor University')\n",
      "\n",
      "key: name ,value: Esther Nelson\n",
      "key: sex ,value: Female\n",
      "key: age ,value: 21\n",
      "key: single ,value: True\n",
      "key: university ,value: Anchor University\n"
     ]
    }
   ],
   "source": [
    "person = {\n",
    "    'name': 'Esther Nelson',\n",
    "    'sex': 'Female',\n",
    "    'age': 21,\n",
    "    'single': True,\n",
    "    'university': 'Anchor University'\n",
    "}\n",
    "for key in person:\n",
    "    print('Key:', key, ',', 'Value:', person[key])\n",
    "\n",
    "print()\n",
    "\n",
    "for value in person.values():\n",
    "    print(value)\n",
    "\n",
    "print()\n",
    "\n",
    "for key_value in person.items():\n",
    "    print(key_value)\n",
    "\n",
    "print()\n",
    "\n",
    "for key, value in person.items():\n",
    "    print('key:', key, ',' 'value:', value)"
   ]
  },
  {
   "cell_type": "code",
   "execution_count": 36,
   "metadata": {},
   "outputs": [
    {
     "name": "stdout",
     "output_type": "stream",
     "text": [
      "0\n",
      "1\n",
      "2\n",
      "3\n",
      "4\n",
      "5\n",
      "6\n",
      "7\n",
      "8\n",
      "9\n",
      "\n",
      "3\n",
      "4\n",
      "5\n",
      "6\n",
      "7\n",
      "8\n",
      "\n",
      "2\n",
      "5\n",
      "8\n"
     ]
    }
   ],
   "source": [
    "for i in range(10):\n",
    "    print(i)\n",
    "\n",
    "print()\n",
    "\n",
    "for i in range (3,9):\n",
    "    print(i)\n",
    "\n",
    "print()\n",
    "\n",
    "for i in range(2,10,3):\n",
    "    print(i)"
   ]
  },
  {
   "cell_type": "code",
   "execution_count": 37,
   "metadata": {},
   "outputs": [
    {
     "name": "stdout",
     "output_type": "stream",
     "text": [
      "The value at position 0 is Sunday\n",
      "The value at position 1 is Monday\n",
      "The value at position 2 is Tuesday\n",
      "The value at position 3 is Wednesday\n",
      "The value at position 4 is Thursday\n",
      "The value at position 5 is Friday\n",
      "The value at position 6 is Saturday\n"
     ]
    }
   ],
   "source": [
    "days = ['Sunday','Monday', 'Tuesday', 'Wednesday', 'Thursday', 'Friday', 'Saturday']\n",
    "for i in range(len(days)):\n",
    "    print('The value at position {} is {}'.format(i, days[i]))"
   ]
  },
  {
   "cell_type": "code",
   "execution_count": 38,
   "metadata": {},
   "outputs": [
    {
     "name": "stdout",
     "output_type": "stream",
     "text": [
      "The value at position 0 is Sunday\n",
      "The value at position 1 is Monday\n",
      "The value at position 2 is Tuesday\n",
      "The value at position 3 is Wednesday\n",
      "The value at position 4 is Thursday\n",
      "The value at position 5 is Friday\n",
      "The value at position 6 is Saturday\n"
     ]
    }
   ],
   "source": [
    "for i, val in enumerate(days):\n",
    "    print('The value at position {} is {}'.format(i, val))"
   ]
  }
 ],
 "metadata": {
  "kernelspec": {
   "display_name": "Python 3",
   "language": "python",
   "name": "python3"
  },
  "language_info": {
   "codemirror_mode": {
    "name": "ipython",
    "version": 3
   },
   "file_extension": ".py",
   "mimetype": "text/x-python",
   "name": "python",
   "nbconvert_exporter": "python",
   "pygments_lexer": "ipython3",
   "version": "3.10.5"
  }
 },
 "nbformat": 4,
 "nbformat_minor": 2
}
